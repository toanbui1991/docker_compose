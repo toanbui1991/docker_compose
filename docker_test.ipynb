{
 "cells": [
  {
   "cell_type": "code",
   "execution_count": null,
   "metadata": {},
   "outputs": [],
   "source": [
    "#test with mysqlclient package\n",
    "import MySQLdb\n",
    "mysql_config = {'host': 'localhost', 'port': 3306, 'user': 'root', 'password': 'Buixuantoan@916263'}\n",
    "db= MySQLdb.connect(**mysql_config) #return Connection object\n",
    "query = \"\"\"SELECT * FROM northwind.Territories;\"\"\"\n",
    "cursor = db.cursor() #Connection.cursor() return Cursor object\n",
    "cursor.execute(query)\n",
    "cursor.fetchone() # return tuple\n",
    "# cursor.fetchmany(5) # return tuple of tuple\n",
    "# cursor.fetchall() # return tuple of tuple\n"
   ]
  },
  {
   "cell_type": "code",
   "execution_count": null,
   "metadata": {},
   "outputs": [],
   "source": [
    "# Cursor.execute with parameter\n",
    "query = \"SELECT * FROM northwind.Territories WHERE RegionID = %s;\"\n",
    "parameters = (3,)\n",
    "cursor.execute(query, parameters)\n",
    "cursor.fetchmany(5)"
   ]
  },
  {
   "cell_type": "code",
   "execution_count": null,
   "metadata": {},
   "outputs": [],
   "source": [
    "#use Cursor.executemany() for multi-rows insert\n",
    "query = \"\"\"INSERT INTO northwind.Categories (CategoryName, Description) VALUES (%s, %s)\"\"\"\n",
    "parameters = [('Category One', 'Description of Category One'), ('Category Two', 'Description of Category Two'), ('Category Three', 'Description of Category Three')]\n",
    "cursor.executemany(query, parameters)\n",
    "db.commit()"
   ]
  },
  {
   "cell_type": "code",
   "execution_count": null,
   "metadata": {},
   "outputs": [],
   "source": [
    "import pandas as pd\n",
    "query = \"SELECT * FROM northwind.Categories\"\n",
    "category_data = pd.read_sql(query, db)\n",
    "print(category_data)"
   ]
  },
  {
   "cell_type": "code",
   "execution_count": null,
   "metadata": {},
   "outputs": [],
   "source": [
    "query = \"\"\"SELECT * FROM northwind.Categories WHERE CategoryID = %s;\"\"\"\n",
    "parameters = (1,)\n",
    "category_data = pd.read_sql(query, db, params=parameters)\n",
    "print(category_data)\n",
    "db.close()"
   ]
  },
  {
   "cell_type": "code",
   "execution_count": null,
   "metadata": {},
   "outputs": [],
   "source": [
    "#Test postgres container\n",
    "import psycopg2\n",
    "connection_config = {'host': 'localhost', 'port': '5433', 'user': 'postgres', 'password': 'Buixuantoan@916263'}\n",
    "connection = psycopg2.connect(**connection_config)\n",
    "cursor = connection.cursor()\n",
    "query = \"\"\"SELECT * FROM public.categories\"\"\"\n",
    "cursor.execute(query)\n",
    "cursor.fetchone() #return  tuple\n",
    "# cursor.fetchmany(5) #return list of tuples\n",
    "# cursor.fetchall() #return list of tuples"
   ]
  },
  {
   "cell_type": "code",
   "execution_count": null,
   "metadata": {},
   "outputs": [],
   "source": [
    "#cursor.execute with parameters\n",
    "query = \"\"\"SELECT * FROM public.territories WHERE region_id = %s\"\"\"\n",
    "parameters = (3,)\n",
    "cursor.execute(query, vars=parameters)\n",
    "cursor.fetchmany(2)\n",
    "connection.commit()"
   ]
  },
  {
   "cell_type": "code",
   "execution_count": null,
   "metadata": {},
   "outputs": [],
   "source": [
    "#cursor.executemany\n",
    "try:\n",
    "    query = \"\"\"INSERT INTO public.categories (category_id, category_name, description) VALUES (%s, %s, %s)\"\"\"\n",
    "    param_list = [(9, 'Category One', 'Description of Category One'), (10, 'Category Two', 'Description of Category Two'), (11, 'Category Three', 'Description of Category Three')]\n",
    "    cursor.executemany(query, vars_list=param_list)\n",
    "except Exception as e:\n",
    "    connection.rollback()\n",
    "    print('Exception: ', e)\n",
    "else:\n",
    "    connection.commit()"
   ]
  },
  {
   "cell_type": "code",
   "execution_count": null,
   "metadata": {},
   "outputs": [],
   "source": [
    "#test python code to work with mongodb\n",
    "from pymongo import MongoClient\n",
    "from urllib.parse import quote_plus\n",
    "import pandas as pd\n",
    "con_config = {'user': 'root', 'password': 'Buixuantoan@916263', 'host': 'localhost', 'port': '27018'}\n",
    "con_config['user'] = quote_plus(con_config.get('user'))\n",
    "con_config['password'] = quote_plus(con_config.get('password')) \n",
    "user, password, host, port = 'root', 'Buixuantoan@916263', 'localhost', 27018\n",
    "con_uri = 'mongodb://{user}:{password}@{host}:{port}/?authMechanism=DEFAULT'.format(**con_config)\n",
    "client = MongoClient(con_uri)\n",
    "database = client['sample_airbnb'] #create database if not exist\n",
    "collection = database['listingsAndReviews'] #create collection if not exist\n",
    "data = pd.read_json('./mongodb_sample_data/sample_airbnb/listingsAndReviews.json', lines=True)\n",
    "#insert data into collection\n",
    "data = data.to_dict(orient='records')\n",
    "collection.insert_many(data)"
   ]
  },
  {
   "cell_type": "code",
   "execution_count": null,
   "metadata": {},
   "outputs": [],
   "source": [
    "#query data with find method\n",
    "collection.find_one()\n",
    "# data = collection.find() #return all document\n",
    "# for doc in data:\n",
    "#     print(doc)"
   ]
  },
  {
   "cell_type": "code",
   "execution_count": null,
   "metadata": {},
   "outputs": [],
   "source": [
    "#user find method with filter argument\n",
    "filter = {\"description\": {\"$regex\": \"^Fantastic\"}} #this is case sensitive\n",
    "data = collection.find(filter)\n",
    "for doc in data:\n",
    "    print(doc)"
   ]
  },
  {
   "cell_type": "code",
   "execution_count": 18,
   "metadata": {},
   "outputs": [],
   "source": [
    "#connection with sql server\n",
    "import pyodbc\n",
    "con_config = {\"host\": 'localhost', 'port': 1433, 'user': 'sa', 'password': 'Buixuantoan@916263', 'database': 'Northwind'}\n",
    "con_str = 'DRIVER={ODBC Driver 17 for SQL Server};' + 'SERVER={host},{port};DATABASE={database};UID={user};PWD={password};'.format(**con_config)\n",
    "con = pyodbc.connect(con_str)\n",
    "cursor = con.cursor()"
   ]
  },
  {
   "cell_type": "code",
   "execution_count": 26,
   "metadata": {},
   "outputs": [
    {
     "name": "stdout",
     "output_type": "stream",
     "text": [
      "[(1, 'Beverages', 'Soft drinks, coffees, teas, beers, and ales'), (2, 'Condiments', 'Sweet and savory sauces, relishes, spreads, and seasonings'), (3, 'Confections', 'Desserts, candies, and sweet breads'), (4, 'Dairy Products', 'Cheeses'), (5, 'Grains/Cereals', 'Breads, crackers, pasta, and cereal'), (6, 'Meat/Poultry', 'Prepared meats'), (7, 'Produce', 'Dried fruit and bean curd'), (8, 'Seafood', 'Seaweed and fish')]\n"
     ]
    },
    {
     "name": "stderr",
     "output_type": "stream",
     "text": [
      "C:\\Users\\buixu\\AppData\\Local\\Temp\\ipykernel_24324\\929605564.py:7: DeprecationWarning: PyUnicode_FromUnicode(NULL, size) is deprecated; use PyUnicode_New() instead\n",
      "  print(testData)\n"
     ]
    }
   ],
   "source": [
    "try:\n",
    "    query = \"SELECT CategoryID, CategoryName, Description FROM dbo.Categories\"\n",
    "    cursor.execute(query)\n",
    "    # print(cursor.fetchone())\n",
    "    # testData = cursor.fetchmany(3)\n",
    "    testData = cursor.fetchall()\n",
    "    print(testData)\n",
    "    cursor.commit()  \n",
    "except Exception as e:\n",
    "    cursor.rollback()\n",
    "# else:\n",
    "#     cursor.commit()\n",
    "# # finally:\n",
    "#     con.close()"
   ]
  },
  {
   "cell_type": "code",
   "execution_count": 32,
   "metadata": {},
   "outputs": [],
   "source": [
    "try:\n",
    "    query = \"INSERT INTO dbo.Categories (CategoryName, Description) VALUES (?, ?)\"\n",
    "    params =  [('Category One', 'Description of Category One'), ('Category Two', 'Description of Category Two'), ('Category Three', 'Description of Category Three')]\n",
    "    cursor.executemany(query, params)\n",
    "    cursor.commit()  \n",
    "except Exception as e:\n",
    "    print('Error: ', e)\n",
    "    cursor.rollback()"
   ]
  }
 ],
 "metadata": {
  "interpreter": {
   "hash": "e997c254a1f8079c5997e54e250cb3627d598fa1a1d92bf10438cfce758154e6"
  },
  "kernelspec": {
   "display_name": "Python 3.10.1 ('venv': venv)",
   "language": "python",
   "name": "python3"
  },
  "language_info": {
   "codemirror_mode": {
    "name": "ipython",
    "version": 3
   },
   "file_extension": ".py",
   "mimetype": "text/x-python",
   "name": "python",
   "nbconvert_exporter": "python",
   "pygments_lexer": "ipython3",
   "version": "3.10.1"
  },
  "orig_nbformat": 4
 },
 "nbformat": 4,
 "nbformat_minor": 2
}
